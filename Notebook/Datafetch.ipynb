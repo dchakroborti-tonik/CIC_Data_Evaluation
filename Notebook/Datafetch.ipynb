{
 "cells": [
  {
   "cell_type": "markdown",
   "metadata": {},
   "source": [
    "# Goal - Trying to find the underlying information in CIC data"
   ]
  },
  {
   "cell_type": "code",
   "execution_count": 1,
   "metadata": {},
   "outputs": [],
   "source": [
    "# import packages\n",
    "# Import important packages\n",
    "import pandas as pd\n",
    "import numpy as np\n",
    "from google.cloud import bigquery\n",
    "import os\n",
    "\n",
    "path = r\"C:\\Users\\DwaipayanChakroborti\\AppData\\Roaming\\gcloud\\legacy_credentials\\dchakroborti@tonikbank.com\\adc.json\"\n",
    "\n",
    "os.environ[\"GOOGLE_APPLICATION_CREDENTIALS\"] = path\n",
    "client = bigquery.Client(project=\"prj-prod-dataplatform\")"
   ]
  },
  {
   "cell_type": "markdown",
   "metadata": {},
   "source": [
    "## Read the Disbursed Loans from Loan Master table"
   ]
  },
  {
   "cell_type": "code",
   "execution_count": 2,
   "metadata": {},
   "outputs": [],
   "source": [
    "sq = \"\"\"select * from `risk_credit_mis.loan_master_table` where startApplyDateTime > '2021-12-31' and flagDisbursement = 1;\"\"\"\n",
    "\n",
    "loandf = client.query(sq).to_dataframe()"
   ]
  },
  {
   "cell_type": "markdown",
   "metadata": {},
   "source": [
    "### Check the shape of the data"
   ]
  },
  {
   "cell_type": "code",
   "execution_count": 3,
   "metadata": {},
   "outputs": [
    {
     "name": "stdout",
     "output_type": "stream",
     "text": [
      "The rows and columns in loan master table only disbursed loans are:  (54429, 224)\n"
     ]
    }
   ],
   "source": [
    "print(\"The rows and columns in loan master table only disbursed loans are: \", loandf.shape)"
   ]
  },
  {
   "cell_type": "code",
   "execution_count": 4,
   "metadata": {},
   "outputs": [
    {
     "data": {
      "text/plain": [
       "array(['customerId', 'digitalLoanAccountId', 'loanAccountNumber',\n",
       "       'loanRequestAmount', 'loanRequestTenure', 'startApplyDateTime',\n",
       "       'customerCategory', 'applicationStatus', 'timeToDecision',\n",
       "       'approvedDateTime', 'flagApproval', 'approvedLoanAmount',\n",
       "       'approvedLoanTenure', 'rejectedDateTime', 'flagRejection',\n",
       "       'signedDateTime', 'timeToSigned', 'flagSigned',\n",
       "       'disbursementDateTime', 'payrollLinked', 'rateOfInterest',\n",
       "       'flagDisbursement', 'disbursedLoanAmount', 'disbursedLoanTenur',\n",
       "       'firstDueDate', 'secondDueDate', 'thirdDueDate', 'obsFPD00',\n",
       "       'obsFPD05', 'obsFPD10', 'obsFPD15', 'obsFPD30', 'obsSPD10',\n",
       "       'obsSPD15', 'obsSPD30', 'obsTPD10', 'obsTPD15', 'obsTPD30',\n",
       "       'defFPD00', 'defFPD05', 'defFPD10', 'defFPD15', 'defFPD30',\n",
       "       'defSPD10', 'defSPD15', 'defSPD30', 'defTPD10', 'defTPD15',\n",
       "       'defTPD30', 'currentDelinquency', 'bucket', 'loanPaidStatus',\n",
       "       'lastPaidDT', 'paymentDueButNotpaidDates', 'purposeDescription',\n",
       "       'bankName', 'flagSecondMobileNumber', 'salaryDays', 'paymentDay',\n",
       "       'demographicScore', 'finScore', 'fraudScore',\n",
       "       'industryDescription', 'incomeMultiple', 'employmentstatus',\n",
       "       'natureofwork', 'refContact', 'credolabScore',\n",
       "       'outstandingBalance', 'maritalStatus', 'dependentsCount', 'city',\n",
       "       'barangay', 'province', 'postalCode', 'age', 'monthlyIncome',\n",
       "       'tinNumber', 'gender', 'dateOfBirth', 'email', 'mobileNo',\n",
       "       'nationality', 'firstName', 'middleName', 'lastName', 'isfatca',\n",
       "       'docNumber', 'docExpiryDate', 'docType', 'stage0DateTime',\n",
       "       'stage0FailureReason', 'isBankStatementSubmitted',\n",
       "       'isTermsAndConditionsAccepted', 'stage1Status',\n",
       "       'crifApplicationId', 'isDirectDebitAgreementSigned',\n",
       "       'isPromissoryNoteAccepted', 'isDisclosureAccepted',\n",
       "       'isAmortizationScheduleAccepted', 'stage1FailureReason',\n",
       "       'loanType', 'credolabRefNumber', 'alternateNumber',\n",
       "       'isDocExpiryDateAvailable', 'subIndustryDescription',\n",
       "       'covidImpactOnIndustry', 'internalFailureReason', 'isLoanActive',\n",
       "       'termsAndConditionsSubmitDateTime', 'timeToSubmit',\n",
       "       'rejectedStage', 'rejectedReason', 'custLoanJourneyZipCode',\n",
       "       'custLoanJourneyProvince', 'custLoanJourneyCity',\n",
       "       'tsa_onboarding_time', 'kyc_status_change_time', 'salaryBankName',\n",
       "       'calculatedBucket', 'IPAddress', 'geolocation', 'deviceId',\n",
       "       'deviceType', 'receiptDueDate', 'documentVerifiedDate',\n",
       "       'documentStatus', 'isDocumentVerified', 'credolabDeviceId',\n",
       "       'kycStatus', 'skycUpgrade', 'brand', 'osVersion', 'appVersion',\n",
       "       'cddStatus', 'cddRejectReason', 'cddAgentRemarks',\n",
       "       'cddInitiatedDateAndTime', 'cddVerificationDateAndTime',\n",
       "       'cddAgentName', 'startInitiateDateTime', 'credolabscore_crif',\n",
       "       'purpleKey', 'merchantName', 'calculatedDelinquency',\n",
       "       'TSA_company_name', 'companyName', 'CRIF_approved_amount',\n",
       "       'decision_date', 'rejection_code', 'Ref1_Firstname',\n",
       "       'Ref1_Lastname', 'Ref1_contact', 'Ref2_Firstname', 'Ref2_Lastname',\n",
       "       'Ref2_contact', 'Ref_custname1_check_flag',\n",
       "       'Ref_custname2_check_flag', 'Ref_custname1_eq_custname2_flag',\n",
       "       'Stage0_Status', 'Stage1_DateTime', 'Overdue_Principal',\n",
       "       'Overdue_Interest', 'Overdue_Penalty',\n",
       "       'Total_Outstanding_Principal', 'Total_Outstanding_Interest',\n",
       "       'Total_Outstanding_Penalty', 'Flag_Overdue_Principal',\n",
       "       'Flag_Overdue_Interest', 'Flag_Overdue_Penalty',\n",
       "       'Flag_Total_Outstanding_Principal',\n",
       "       'Flag_Total_Outstanding_Interest',\n",
       "       'Flag_Total_Outstanding_Penalty', 'obsSPD00', 'obsSPD05',\n",
       "       'obsTPD00', 'obsTPD05', 'Flag_Decision', 'defSPD00', 'defSPD05',\n",
       "       'defTPD00', 'defTPD05', 'Max_Ever_DPD', 'isUserAtStore',\n",
       "       'Geo_PostalCode', 'Geo_locality', 'Geo_fullAddress',\n",
       "       'cancelledReason', 'cancellationDateTime', 'EmployerContactNo',\n",
       "       'ContactPersonName', 'PayrollCardVerified', 'PayrollCardLinked',\n",
       "       'accountHolderName', 'accountNum', 'processingFee',\n",
       "       'BankStatementType', 'BankStatementFileName',\n",
       "       'IncomeProofDocumentType', 'IncomeProofDocumentFileNAme',\n",
       "       'Last_Login_Date', 'industryperSalaryScale',\n",
       "       'occupationperSalaryScale', 'incomeperSalaryScale',\n",
       "       'incomeSenttoCRIF', 'countryOfRemittance',\n",
       "       'BNPL_PRODUCT_CATEGORY_CNT', 'downPaymentAmount',\n",
       "       'defaultDPAmount', 'dpPercent', 'reloan_flag', 'AppsFlyer_ID',\n",
       "       'Media_Source', 'channel', 'Campaign', 'Campaign_ID', 'Adset',\n",
       "       'Adset_ID', 'Install_Time', 'adminFee', 'new_loan_type', 'Partner',\n",
       "       'Keywords', 'workingForBSP'], dtype=object)"
      ]
     },
     "execution_count": 4,
     "metadata": {},
     "output_type": "execute_result"
    }
   ],
   "source": [
    "loandf.columns.values"
   ]
  },
  {
   "cell_type": "code",
   "execution_count": 5,
   "metadata": {},
   "outputs": [],
   "source": [
    "loandf.to_csv(\"loanmastertabledisburseddata.csv\", index = False)"
   ]
  },
  {
   "cell_type": "markdown",
   "metadata": {},
   "source": [
    "## Read Loans which have Ever dpd more than 30"
   ]
  },
  {
   "cell_type": "code",
   "execution_count": 6,
   "metadata": {},
   "outputs": [],
   "source": [
    "sq = \"\"\"select loanAccountNumber, max(Max_ever_DPD) maxeverdpd from `risk_credit_mis.loan_bucket_flow_report_core`\n",
    "group by 1\n",
    "having  max(Max_ever_DPD) >= 30\n",
    ";\"\"\"\n",
    "\n",
    "loaneverdpd30 = client.query(sq).to_dataframe()"
   ]
  },
  {
   "cell_type": "code",
   "execution_count": 7,
   "metadata": {},
   "outputs": [
    {
     "name": "stdout",
     "output_type": "stream",
     "text": [
      "The rows and columns for loans accounts which ever touched 30 dpd or higher are:  (36925, 2)\n"
     ]
    }
   ],
   "source": [
    "print(\"The rows and columns for loans accounts which ever touched 30 dpd or higher are: \", loaneverdpd30.shape)"
   ]
  },
  {
   "cell_type": "code",
   "execution_count": 8,
   "metadata": {},
   "outputs": [],
   "source": [
    "loaneverdpd30.to_csv(\"loanidtoughedever30dpd.csv\", index = False)"
   ]
  },
  {
   "cell_type": "markdown",
   "metadata": {},
   "source": [
    "## Read the cic summary table data"
   ]
  },
  {
   "cell_type": "code",
   "execution_count": 9,
   "metadata": {},
   "outputs": [],
   "source": [
    "sq = \"\"\"select \n",
    "* \n",
    "from `risk_credit_cic_data.cic_summary`   \n",
    ";\"\"\"\n",
    "cicdf = client.query(sq).to_dataframe()"
   ]
  },
  {
   "cell_type": "code",
   "execution_count": 10,
   "metadata": {},
   "outputs": [
    {
     "name": "stdout",
     "output_type": "stream",
     "text": [
      "The rows and columns in CIC data are:  (125153, 93)\n"
     ]
    }
   ],
   "source": [
    "print(\"The rows and columns in CIC data are: \", cicdf.shape)"
   ]
  },
  {
   "cell_type": "code",
   "execution_count": 11,
   "metadata": {},
   "outputs": [
    {
     "data": {
      "text/plain": [
       "array(['digitalLoanAccountId', 'crifApplicationId', 'customerId',\n",
       "       'processEngineGuid', 'requestGuid', 'run_date', 'DetailID',\n",
       "       'responseMsg', 'DescisionValue', 'DescisionDescription',\n",
       "       'ExclusionRuleCode', 'exclusionRuleLabelValue',\n",
       "       'exclusionRuleLabelDescription', 'ScoreRaw', 'ScoreRange',\n",
       "       'Accounts30Days', 'Accounts30DaysOther', 'Accounts60Days',\n",
       "       'Accounts60DaysOther', 'Accounts90Days', 'Accounts90DaysOther',\n",
       "       'AgeAtLoanTermination', 'AgeAtLoanTerminationMax',\n",
       "       'CreditAvgCreditLimit', 'CreditHighestCreditLimit',\n",
       "       'CreditMaxOutstandingBalance', 'CreditMaxOutstandingBalanceDate',\n",
       "       'CreditMaxOverdueAmount', 'CreditMaxOverdueAmountDate',\n",
       "       'CreditMaxOverdueDays', 'CreditMaxOverdueDaysDate',\n",
       "       'CreditNumberOfContracts', 'CreditTotalCreditLimit',\n",
       "       'CreditTotalOutstandingBalanceAmount', 'CreditTotalOverdueAmount',\n",
       "       'DataFromTest', 'InstMaxOverdueAmount', 'InstMaxOverdueAmountDate',\n",
       "       'InstMaxOverdueDays', 'InstMaxOverdueDaysDate',\n",
       "       'InstNumberOfContracts', 'InstTotalMonthlyPaymentsAmount',\n",
       "       'InstTotalOutstandingBalanceAmount', 'InstTotalOverdueAmount',\n",
       "       'LoanToValue', 'MonthsOfBooks', 'MonthsOfBooksOther',\n",
       "       'NonInstAvgCreditLimit', 'NonInstHighestCreditLimit',\n",
       "       'NonInstNumberOfContracts', 'NonInstTotalCreditLimit',\n",
       "       'NonInstTotalOverdraftAmount', 'NonInstTotalUtilization',\n",
       "       'NumberOfContract', 'NumberOfContractAC',\n",
       "       'NumberOfContractACOther', 'NumberOfContractCLCA',\n",
       "       'NumberOfContractCLCAOther', 'NumberOfContractOther',\n",
       "       'NumberOfContractRF', 'NumberOfContractRFOther',\n",
       "       'NumberOfContractRN', 'NumberOfContractRNOther',\n",
       "       'NumberOfContractRQ', 'NumberOfContractRQOther', 'OverlimitFlag',\n",
       "       'OverlimitFlagOther', 'ReportingProvidersNumber',\n",
       "       'ReportingProvidersNumberOther', 'SubjectEventDate',\n",
       "       'SubjectInfoTypeCode', 'SubjectInfoTypeCodeDesc',\n",
       "       'TotalOutstanding', 'TotalOutstandingOther',\n",
       "       'UtilityMaxBilledAmount', 'UtilityMaxBilledAmountDate',\n",
       "       'UtilityMaxOutstandingBalance', 'UtilityMaxOutstandingBalanceDate',\n",
       "       'UtilityMaxOverdueAmount', 'UtilityMaxOverdueAmountDate',\n",
       "       'UtilityMaxOverdueDays', 'UtilityMaxOverdueDaysDate',\n",
       "       'UtilityNumberOfContracts', 'UtilityTotalBilledAmount',\n",
       "       'UtilityTotalOutstandingBalanceAmount',\n",
       "       'UtilityTotalOverdueAmount', 'UtilizationRateCreditCard',\n",
       "       'UtilizationRateCreditCardOther', 'UtilizationRateNonInstallment',\n",
       "       'UtilizationRateNonInstallmentOther', 'label', 'scoreLabelDesc',\n",
       "       'scoreLabelValue'], dtype=object)"
      ]
     },
     "execution_count": 11,
     "metadata": {},
     "output_type": "execute_result"
    }
   ],
   "source": [
    "cicdf.columns.values"
   ]
  },
  {
   "cell_type": "code",
   "execution_count": 12,
   "metadata": {},
   "outputs": [
    {
     "data": {
      "text/html": [
       "<div>\n",
       "<style scoped>\n",
       "    .dataframe tbody tr th:only-of-type {\n",
       "        vertical-align: middle;\n",
       "    }\n",
       "\n",
       "    .dataframe tbody tr th {\n",
       "        vertical-align: top;\n",
       "    }\n",
       "\n",
       "    .dataframe thead th {\n",
       "        text-align: right;\n",
       "    }\n",
       "</style>\n",
       "<table border=\"1\" class=\"dataframe\">\n",
       "  <thead>\n",
       "    <tr style=\"text-align: right;\">\n",
       "      <th></th>\n",
       "      <th>digitalLoanAccountId</th>\n",
       "      <th>crifApplicationId</th>\n",
       "      <th>customerId</th>\n",
       "      <th>processEngineGuid</th>\n",
       "      <th>requestGuid</th>\n",
       "      <th>run_date</th>\n",
       "      <th>DetailID</th>\n",
       "      <th>responseMsg</th>\n",
       "      <th>DescisionValue</th>\n",
       "      <th>DescisionDescription</th>\n",
       "      <th>...</th>\n",
       "      <th>UtilityTotalBilledAmount</th>\n",
       "      <th>UtilityTotalOutstandingBalanceAmount</th>\n",
       "      <th>UtilityTotalOverdueAmount</th>\n",
       "      <th>UtilizationRateCreditCard</th>\n",
       "      <th>UtilizationRateCreditCardOther</th>\n",
       "      <th>UtilizationRateNonInstallment</th>\n",
       "      <th>UtilizationRateNonInstallmentOther</th>\n",
       "      <th>label</th>\n",
       "      <th>scoreLabelDesc</th>\n",
       "      <th>scoreLabelValue</th>\n",
       "    </tr>\n",
       "  </thead>\n",
       "  <tbody>\n",
       "    <tr>\n",
       "      <th>70733</th>\n",
       "      <td>a73e7f50-d887-4174-b509-5a06f52f4dd0</td>\n",
       "      <td>tonik-tul-192386</td>\n",
       "      <td>1477911</td>\n",
       "      <td>9b921b70-82a2-11ed-a66b-0242ace60012</td>\n",
       "      <td>9b70b0c0-82a2-11ed-8206-0242ace60003</td>\n",
       "      <td>2022-12-23</td>\n",
       "      <td>32777638638</td>\n",
       "      <td>None</td>\n",
       "      <td>Reject</td>\n",
       "      <td></td>\n",
       "      <td>...</td>\n",
       "      <td>0</td>\n",
       "      <td>0</td>\n",
       "      <td>0</td>\n",
       "      <td>2</td>\n",
       "      <td>2</td>\n",
       "      <td>0</td>\n",
       "      <td>0</td>\n",
       "      <td>[{\"description\":\"High Risk\",\"value\":\"HR\"}, {\"d...</td>\n",
       "      <td>High Risk</td>\n",
       "      <td>HR</td>\n",
       "    </tr>\n",
       "    <tr>\n",
       "      <th>55972</th>\n",
       "      <td>69a97276-aea3-423d-b2ac-16f87e1a2466</td>\n",
       "      <td>tonik-tul-238630</td>\n",
       "      <td>1412576</td>\n",
       "      <td>15cbb0f0-d121-11ed-a91e-0242ace60011</td>\n",
       "      <td>15b14b20-d121-11ed-b53a-0242ace60002</td>\n",
       "      <td>2023-04-02</td>\n",
       "      <td>32801542546</td>\n",
       "      <td>None</td>\n",
       "      <td>Review</td>\n",
       "      <td></td>\n",
       "      <td>...</td>\n",
       "      <td>0</td>\n",
       "      <td>0</td>\n",
       "      <td>0</td>\n",
       "      <td>0</td>\n",
       "      <td>0</td>\n",
       "      <td>0</td>\n",
       "      <td>0</td>\n",
       "      <td>[{\"description\":\"High Risk\",\"value\":\"HR\"}, {\"d...</td>\n",
       "      <td>Medium Risk</td>\n",
       "      <td>MR</td>\n",
       "    </tr>\n",
       "    <tr>\n",
       "      <th>93520</th>\n",
       "      <td>8db50799-3b89-4bd2-8683-1d74497f9288</td>\n",
       "      <td>tonik-sbcl-226258</td>\n",
       "      <td>1863263</td>\n",
       "      <td>3a345960-bf33-11ed-a91e-0242ace60011</td>\n",
       "      <td>3a19cc80-bf33-11ed-9ce1-0242ace60002</td>\n",
       "      <td>2023-03-10</td>\n",
       "      <td>32796063406</td>\n",
       "      <td>None</td>\n",
       "      <td>Review</td>\n",
       "      <td></td>\n",
       "      <td>...</td>\n",
       "      <td>0</td>\n",
       "      <td>0</td>\n",
       "      <td>0</td>\n",
       "      <td>0</td>\n",
       "      <td>0</td>\n",
       "      <td>0</td>\n",
       "      <td>0</td>\n",
       "      <td>[{\"description\":\"High Risk\",\"value\":\"HR\"}, {\"d...</td>\n",
       "      <td>None</td>\n",
       "      <td>None</td>\n",
       "    </tr>\n",
       "    <tr>\n",
       "      <th>85933</th>\n",
       "      <td>841306c0-a766-447e-86d2-36bd78df3d72</td>\n",
       "      <td>tonik-tul-257101</td>\n",
       "      <td>1031878</td>\n",
       "      <td>fd1d3850-eb13-11ed-b939-0242ace60015</td>\n",
       "      <td>fcfbcda0-eb13-11ed-be42-0242ace60004</td>\n",
       "      <td>2023-05-05</td>\n",
       "      <td>32810508958</td>\n",
       "      <td>None</td>\n",
       "      <td>Reject</td>\n",
       "      <td></td>\n",
       "      <td>...</td>\n",
       "      <td>0</td>\n",
       "      <td>0</td>\n",
       "      <td>0</td>\n",
       "      <td>0</td>\n",
       "      <td>0</td>\n",
       "      <td>0</td>\n",
       "      <td>0</td>\n",
       "      <td>[{\"description\":\"High Risk\",\"value\":\"HR\"}, {\"d...</td>\n",
       "      <td>High Risk</td>\n",
       "      <td>HR</td>\n",
       "    </tr>\n",
       "    <tr>\n",
       "      <th>29646</th>\n",
       "      <td>b5c8897b-56f9-46ab-a7cc-f5920bd561c1</td>\n",
       "      <td>tonik-tul-247339</td>\n",
       "      <td>1986454</td>\n",
       "      <td>69313810-dd32-11ed-9b82-0242ace60013</td>\n",
       "      <td>69180ac0-dd32-11ed-bac9-0242ace60006</td>\n",
       "      <td>2023-04-17</td>\n",
       "      <td>32805621366</td>\n",
       "      <td>1-098 - MORE SUBJECTS MATCHED</td>\n",
       "      <td>None</td>\n",
       "      <td>None</td>\n",
       "      <td>...</td>\n",
       "      <td>None</td>\n",
       "      <td>None</td>\n",
       "      <td>None</td>\n",
       "      <td>None</td>\n",
       "      <td>None</td>\n",
       "      <td>None</td>\n",
       "      <td>None</td>\n",
       "      <td>[]</td>\n",
       "      <td>None</td>\n",
       "      <td>None</td>\n",
       "    </tr>\n",
       "  </tbody>\n",
       "</table>\n",
       "<p>5 rows × 93 columns</p>\n",
       "</div>"
      ],
      "text/plain": [
       "                       digitalLoanAccountId  crifApplicationId customerId  \\\n",
       "70733  a73e7f50-d887-4174-b509-5a06f52f4dd0   tonik-tul-192386    1477911   \n",
       "55972  69a97276-aea3-423d-b2ac-16f87e1a2466   tonik-tul-238630    1412576   \n",
       "93520  8db50799-3b89-4bd2-8683-1d74497f9288  tonik-sbcl-226258    1863263   \n",
       "85933  841306c0-a766-447e-86d2-36bd78df3d72   tonik-tul-257101    1031878   \n",
       "29646  b5c8897b-56f9-46ab-a7cc-f5920bd561c1   tonik-tul-247339    1986454   \n",
       "\n",
       "                          processEngineGuid  \\\n",
       "70733  9b921b70-82a2-11ed-a66b-0242ace60012   \n",
       "55972  15cbb0f0-d121-11ed-a91e-0242ace60011   \n",
       "93520  3a345960-bf33-11ed-a91e-0242ace60011   \n",
       "85933  fd1d3850-eb13-11ed-b939-0242ace60015   \n",
       "29646  69313810-dd32-11ed-9b82-0242ace60013   \n",
       "\n",
       "                                requestGuid    run_date     DetailID  \\\n",
       "70733  9b70b0c0-82a2-11ed-8206-0242ace60003  2022-12-23  32777638638   \n",
       "55972  15b14b20-d121-11ed-b53a-0242ace60002  2023-04-02  32801542546   \n",
       "93520  3a19cc80-bf33-11ed-9ce1-0242ace60002  2023-03-10  32796063406   \n",
       "85933  fcfbcda0-eb13-11ed-be42-0242ace60004  2023-05-05  32810508958   \n",
       "29646  69180ac0-dd32-11ed-bac9-0242ace60006  2023-04-17  32805621366   \n",
       "\n",
       "                         responseMsg DescisionValue DescisionDescription  ...  \\\n",
       "70733                           None         Reject                       ...   \n",
       "55972                           None         Review                       ...   \n",
       "93520                           None         Review                       ...   \n",
       "85933                           None         Reject                       ...   \n",
       "29646  1-098 - MORE SUBJECTS MATCHED           None                 None  ...   \n",
       "\n",
       "      UtilityTotalBilledAmount UtilityTotalOutstandingBalanceAmount  \\\n",
       "70733                        0                                    0   \n",
       "55972                        0                                    0   \n",
       "93520                        0                                    0   \n",
       "85933                        0                                    0   \n",
       "29646                     None                                 None   \n",
       "\n",
       "      UtilityTotalOverdueAmount UtilizationRateCreditCard  \\\n",
       "70733                         0                         2   \n",
       "55972                         0                         0   \n",
       "93520                         0                         0   \n",
       "85933                         0                         0   \n",
       "29646                      None                      None   \n",
       "\n",
       "      UtilizationRateCreditCardOther UtilizationRateNonInstallment  \\\n",
       "70733                              2                             0   \n",
       "55972                              0                             0   \n",
       "93520                              0                             0   \n",
       "85933                              0                             0   \n",
       "29646                           None                          None   \n",
       "\n",
       "      UtilizationRateNonInstallmentOther  \\\n",
       "70733                                  0   \n",
       "55972                                  0   \n",
       "93520                                  0   \n",
       "85933                                  0   \n",
       "29646                               None   \n",
       "\n",
       "                                                   label scoreLabelDesc  \\\n",
       "70733  [{\"description\":\"High Risk\",\"value\":\"HR\"}, {\"d...      High Risk   \n",
       "55972  [{\"description\":\"High Risk\",\"value\":\"HR\"}, {\"d...    Medium Risk   \n",
       "93520  [{\"description\":\"High Risk\",\"value\":\"HR\"}, {\"d...           None   \n",
       "85933  [{\"description\":\"High Risk\",\"value\":\"HR\"}, {\"d...      High Risk   \n",
       "29646                                                 []           None   \n",
       "\n",
       "      scoreLabelValue  \n",
       "70733              HR  \n",
       "55972              MR  \n",
       "93520            None  \n",
       "85933              HR  \n",
       "29646            None  \n",
       "\n",
       "[5 rows x 93 columns]"
      ]
     },
     "execution_count": 12,
     "metadata": {},
     "output_type": "execute_result"
    }
   ],
   "source": [
    "cicdf.sample(5)"
   ]
  },
  {
   "cell_type": "code",
   "execution_count": 13,
   "metadata": {},
   "outputs": [],
   "source": [
    "cicdf.to_csv(\"cicdata.csv\", index = False)"
   ]
  },
  {
   "cell_type": "code",
   "execution_count": null,
   "metadata": {},
   "outputs": [],
   "source": []
  }
 ],
 "metadata": {
  "kernelspec": {
   "display_name": "prjfraudscore",
   "language": "python",
   "name": "python3"
  },
  "language_info": {
   "codemirror_mode": {
    "name": "ipython",
    "version": 3
   },
   "file_extension": ".py",
   "mimetype": "text/x-python",
   "name": "python",
   "nbconvert_exporter": "python",
   "pygments_lexer": "ipython3",
   "version": "3.8.12"
  },
  "orig_nbformat": 4
 },
 "nbformat": 4,
 "nbformat_minor": 2
}
